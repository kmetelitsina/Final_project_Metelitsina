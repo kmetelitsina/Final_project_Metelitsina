{
  "nbformat": 4,
  "nbformat_minor": 0,
  "metadata": {
    "colab": {
      "provenance": []
    },
    "kernelspec": {
      "name": "python3",
      "display_name": "Python 3"
    },
    "language_info": {
      "name": "python"
    }
  },
  "cells": [
    {
      "cell_type": "markdown",
      "source": [
        "Данный проект направлен на анализ финансовых магистратур во Франции. В нем мы посмотрим не только сами университеты и программы, но еще и проведем небольшой анализ городов, в которых расположены кампусы университетов. Для базовой таблицы были взяты данные с сайта mastersportal.com, в котором уже были заданы условия на программу: очное обучение, финансовая направленность, страна обучения - Франция. "
      ],
      "metadata": {
        "id": "y_E2cRHiv6AE"
      }
    },
    {
      "cell_type": "code",
      "execution_count": 1,
      "metadata": {
        "id": "g6vDNP3q0ygg"
      },
      "outputs": [],
      "source": [
        "import requests\n",
        "from bs4 import BeautifulSoup\n",
        "import pandas as pd\n",
        "import re\n",
        "import matplotlib.pyplot as plt"
      ]
    },
    {
      "cell_type": "code",
      "source": [
        "response = requests.get('https://search.prtl.co/2023-02-23/?q=en-306|di-93|ci-10|lv-master|tc-EUR|uc-1|ur-38&size=30&start=0')\n",
        "data = response.json()"
      ],
      "metadata": {
        "id": "a93Q_-bE09zn"
      },
      "execution_count": 2,
      "outputs": []
    },
    {
      "cell_type": "code",
      "source": [
        "unis = []\n",
        "\n",
        "for i in range(len(data)):\n",
        "  funcs = data[i]['card']['func']\n",
        "\n",
        "  programme_name = funcs['getTitle']\n",
        "  university_name = funcs['getUniversityLink']['func']['getDescription']\n",
        "  location = funcs['getLocation']['func']['getCity']['func']['getDescription']\n",
        "  fees = [fee['func']['getAmount'] for fee in funcs['getTuitionFees'] if fee['func']['getTarget'] == 'international'][0]\n",
        "  duration = funcs['getDuration']['func']['getAmount']\n",
        "  if location == \"Chambéry\": location = \"Chambery\"\n",
        "  unis.append([programme_name, university_name, location, fees, duration])\n"
      ],
      "metadata": {
        "id": "rNck7xmB1WZi"
      },
      "execution_count": 3,
      "outputs": []
    },
    {
      "cell_type": "code",
      "source": [
        "df = pd.DataFrame(unis, columns = ['Programme', 'University', 'Location', 'Fees', 'Duration (months)'])\n",
        "df = df[df['Location'] != 'Singapore'] \n",
        "#данное условие стоит тут не просто так, на самом деле, одна из программ реализуется на несколько городов, в то время как главные кампус \n",
        "#базируется в Сингапуре(по этой причине локация распознается как Сингапур), поэтому будем считать данную магистратуру не совсем \n",
        "#французской и исключим ее \n",
        "\n"
      ],
      "metadata": {
        "id": "utQb_j3D5Sia"
      },
      "execution_count": 4,
      "outputs": []
    },
    {
      "cell_type": "markdown",
      "source": [
        "Тут мы начинаем рассматривать не столько саму программу, сколько город ее расположения. Для оценки города для начала мы выкачаем данные об уровне преступности в каждой зоне."
      ],
      "metadata": {
        "id": "kvi60--oyYLA"
      }
    },
    {
      "cell_type": "code",
      "source": [
        "def get_crime_rate(city):\n",
        "    url = f'https://www.numbeo.com/crime/in/{city}'\n",
        "\n",
        "    response = requests.get(url)\n",
        "\n",
        "    soup = BeautifulSoup(response.text, 'lxml')\n",
        "\n",
        "    table = soup.find('table', class_='table_indices')\n",
        "\n",
        "    crime_types = []\n",
        "    crime_indices = []\n",
        "\n",
        "    for row in table.find_all('tr')[1:]:\n",
        "        cells = row.find_all('td')\n",
        "        crime_type = cells[0].text.strip()\n",
        "        crime_index = cells[1].text.strip()\n",
        "        crime_types.append(crime_type)\n",
        "        crime_indices.append(crime_index)\n",
        "\n",
        "    for crime_type, crime_index in zip(crime_types, crime_indices):\n",
        "        if crime_type == \"Crime Index:\":\n",
        "          return float(crime_index)"
      ],
      "metadata": {
        "id": "huCkmByqKp8w"
      },
      "execution_count": 5,
      "outputs": []
    },
    {
      "cell_type": "code",
      "source": [
        "# в Numbeo Rouen называется Rouen-France\n",
        "# по коммуне Jouy-en-Josas нет данных, она находится рядом с Версалем, поэтому возьмем данные оттуда\n",
        "# то же самое с Chambery - населенный пункт рядом с Греноблем\n",
        "substitutes_for_crime = {\"Rouen\": \"Rouen-France\", \"Jouy-en-Josas\": \"Versailles-France\", \"Chambery\": \"Grenoble\"} "
      ],
      "metadata": {
        "id": "eRNIAe5Q8hR-"
      },
      "execution_count": 6,
      "outputs": []
    },
    {
      "cell_type": "code",
      "source": [
        "cities = df['Location'].unique().tolist()\n",
        "crime_indecies = {city: 0 for city in cities}\n",
        "for city in cities:\n",
        "  if city in substitutes_for_crime.keys():\n",
        "    crime_indecies[city] = get_crime_rate(substitutes_for_crime[city])\n",
        "  else:\n",
        "    crime_indecies[city] = get_crime_rate(city)\n",
        "\n",
        "df['Crime level'] = df['Location'].map(crime_indecies)"
      ],
      "metadata": {
        "id": "ZevKbRRQ6xWD"
      },
      "execution_count": 7,
      "outputs": []
    },
    {
      "cell_type": "code",
      "source": [
        "# снова доступны не все города, поэтому города, отсутствующие на сайте заменим на ближайшие, например, Jouy-en-Josas - спутник Парижа\n",
        "# поэтому мы можем спокойно делать такие замены  \n",
        "substitutes_for_costs = {\"Jouy-en-Josas\": \"Paris\", \"Chambery\": \"Grenoble\", \"Clermont-Ferrand\": \"Lyon\"} \n",
        "cities = df['Location'].unique().tolist()"
      ],
      "metadata": {
        "id": "Y1tdlRyG_n9h"
      },
      "execution_count": 8,
      "outputs": []
    },
    {
      "cell_type": "code",
      "source": [
        "#теперь, помимо уровня преступности мы посмотрим еще и на стоимость жизни в городе\n",
        "def get_cost_of_living(city):\n",
        "  url = f'https://www.expatistan.com/cost-of-living/{city.lower()}'\n",
        "\n",
        "  response = requests.get(url)\n",
        "\n",
        "  soup = BeautifulSoup(response.text, 'html.parser')\n",
        "\n",
        "  element = soup.find('div', class_='block')\n",
        "  estimated_costs = element.find_all('li', class_='key-point')\n",
        "  estimated_cost = estimated_costs[1].find('span', class_=\"price\")\n",
        "  return int(estimated_cost.text.replace(\"€\", \"\").replace(\",\", \"\"))\n",
        "\n",
        "\n"
      ],
      "metadata": {
        "id": "kuaocOB3C0Ct"
      },
      "execution_count": 9,
      "outputs": []
    },
    {
      "cell_type": "code",
      "source": [
        "living_cost = {city: 0 for city in cities}\n",
        "for city in cities:\n",
        "  if city in substitutes_for_costs.keys():\n",
        "    living_cost[city] = get_cost_of_living(substitutes_for_costs[city])\n",
        "  else:\n",
        "    living_cost[city] = get_cost_of_living(city)\n",
        "\n",
        "df['Cost of living per month'] = df['Location'].map(living_cost)"
      ],
      "metadata": {
        "id": "8rugDADqMHww"
      },
      "execution_count": 10,
      "outputs": []
    },
    {
      "cell_type": "code",
      "source": [
        "df['Total costs'] = (df['Fees'] / 12 + df['Cost of living per month']) * df['Duration (months)']\n",
        "# в нашей изначальной табличке можно посмотреть на продолжительность программы в месяцах, поэтому с помощью данной новой колонки\n",
        "# мы получим данные об общей сумме денег, которую скорее всего придется выложить за весь период обучения "
      ],
      "metadata": {
        "id": "aEag-u4jN5mC"
      },
      "execution_count": 11,
      "outputs": []
    },
    {
      "cell_type": "code",
      "source": [
        "def extract_region_name(string):\n",
        "    pattern = r'\\bZone:\\s*sa:\\s*([^\\.]+)'\n",
        "    match = re.search(pattern, string)\n",
        "    if match:\n",
        "        return match.group(1).strip()\n",
        "    else:\n",
        "        return None"
      ],
      "metadata": {
        "id": "1maFuNe_OcuE"
      },
      "execution_count": 12,
      "outputs": []
    },
    {
      "cell_type": "code",
      "source": [
        "# и финальная колонка - безработица, данный показатель позволит будущему студенту принять решения о том, нужно ли оставаться в соответствующем\n",
        "# городе после окончания обучения или нет \n",
        "def get_unemployment_data(page):\n",
        "    url = f\"https://www.ceicdata.com/en/france/unemployment-by-region-and-zone?page={page}\"\n",
        "\n",
        "    response = requests.get(url)\n",
        "\n",
        "    soup = BeautifulSoup(response.content, \"lxml\")\n",
        "\n",
        "    names = []\n",
        "    values = []\n",
        "    headers = soup.find_all(\"h3\")\n",
        "    for header in headers:\n",
        "        names.append(extract_region_name(header.text))\n",
        "\n",
        "    tables = soup.find_all(\"table\")\n",
        "\n",
        "    for table in tables:\n",
        "        rows = table.find_all(\"tr\")\n",
        "\n",
        "        headers = [header.text.strip() for header in rows[0].find_all(\"th\")]\n",
        "        data = []\n",
        "        for row in rows[1:]:\n",
        "            row_data = [cell.text.strip() for cell in row.find_all(\"td\")]\n",
        "            data.append(row_data)\n",
        "\n",
        "        values.append(list(data[0][0].split('\\n'))[0])\n",
        "\n",
        "    res = {names[i]: float(values[i]) for i in range(len(names))}\n",
        "    return res"
      ],
      "metadata": {
        "id": "GWW9qjM5Obgz"
      },
      "execution_count": 13,
      "outputs": []
    },
    {
      "cell_type": "code",
      "source": [
        "all_cities_data = {}\n",
        "for i in range(1, 5):\n",
        "  all_cities_data.update(get_unemployment_data(i))"
      ],
      "metadata": {
        "id": "FQ6k_K4qO34s"
      },
      "execution_count": 14,
      "outputs": []
    },
    {
      "cell_type": "code",
      "source": [
        "substitutes_for_unemployment = {\"Jouy-en-Josas\": \"Paris\", \"Chambery\": \"Grenoble\"} "
      ],
      "metadata": {
        "id": "NIYjtc39PCnP"
      },
      "execution_count": 15,
      "outputs": []
    },
    {
      "cell_type": "code",
      "source": [
        "city_to_unemployment = {}\n",
        "for city in cities:\n",
        "  if city not in substitutes_for_unemployment.keys():\n",
        "    city_to_unemployment[city] = all_cities_data[city]\n",
        "  else:\n",
        "    city_to_unemployment[city] = all_cities_data[substitutes_for_unemployment[city]]"
      ],
      "metadata": {
        "id": "v7wixYrSPcEl"
      },
      "execution_count": 16,
      "outputs": []
    },
    {
      "cell_type": "code",
      "source": [
        "# выведем же, наконец-то, табличку \n",
        "df['Unemployment level'] = df['Location'].map(city_to_unemployment)\n",
        "df"
      ],
      "metadata": {
        "colab": {
          "base_uri": "https://localhost:8080/",
          "height": 913
        },
        "id": "oc4BaO-bQnfR",
        "outputId": "8b30ab29-2e03-4510-d530-5df5ee89ba09"
      },
      "execution_count": 20,
      "outputs": [
        {
          "output_type": "execute_result",
          "data": {
            "text/plain": [
              "                                            Programme  \\\n",
              "0         International Accounting, Audit and Control   \n",
              "1                       Corporate Finance and Fintech   \n",
              "2                                             Finance   \n",
              "4                                   Corporate Finance   \n",
              "5   QEM - Models and Methods of Quantitative Econo...   \n",
              "6        Master in Accounting, Finance and Management   \n",
              "7            Advances in Finance and Accounting (AFA)   \n",
              "8                                   Corporate Finance   \n",
              "9                                        M2 Economics   \n",
              "10        Accounting, Auditing and Management Control   \n",
              "11              Pantheon-Sorbonne Master in Economics   \n",
              "12  International Accounting, Management Control a...   \n",
              "13                European Master in Business Studies   \n",
              "14                                       M1 Economics   \n",
              "15                             Accounting and Finance   \n",
              "16                                     Global Finance   \n",
              "17                            Accounting and Auditing   \n",
              "18                                          Economics   \n",
              "19               International Accounting and Finance   \n",
              "20                 Advances in Finance and Accounting   \n",
              "21                              International Finance   \n",
              "\n",
              "                                           University          Location  \\\n",
              "0                          IÉSEG School of Management             Paris   \n",
              "1                        ESC Clermont Business School  Clermont-Ferrand   \n",
              "2                      Toulouse 1 Capitole University          Toulouse   \n",
              "4                      Toulouse 1 Capitole University          Toulouse   \n",
              "5                        Panthéon-Sorbonne University             Paris   \n",
              "6                                           HEC Paris     Jouy-en-Josas   \n",
              "7   Grenoble INP, Graduate schools of Engineering ...          Grenoble   \n",
              "8                               NEOMA Business School             Rouen   \n",
              "9                             Paris-Saclay University             Paris   \n",
              "10                     Toulouse 1 Capitole University          Toulouse   \n",
              "11                       Panthéon-Sorbonne University             Paris   \n",
              "12                          Rennes School of Business            Rennes   \n",
              "13                       Savoie Mont Blanc University          Chambery   \n",
              "14                            Paris-Saclay University             Paris   \n",
              "15              University of Clermont Auvergne (UCA)  Clermont-Ferrand   \n",
              "16                        Montpellier Business School       Montpellier   \n",
              "17                               University of Rennes            Rennes   \n",
              "18                                        Sciences Po             Paris   \n",
              "19                              EDHEC Business School              Nice   \n",
              "20                          Université Grenoble Alpes          Grenoble   \n",
              "21                              NEOMA Business School             Rouen   \n",
              "\n",
              "     Fees  Duration (months)  Crime level  Cost of living per month  \\\n",
              "0   11666                 18        57.09                      3056   \n",
              "1   11950                 12        47.86                      1893   \n",
              "2    3770                 12        50.14                      1720   \n",
              "4    2500                 12        50.14                      1720   \n",
              "5    9000                 24        57.09                      3056   \n",
              "6   36250                 12        11.76                      3056   \n",
              "7    3862                 12        58.53                      1670   \n",
              "8   14320                 15        52.64                      1396   \n",
              "9     243                 12        57.09                      3056   \n",
              "10   3770                 12        50.14                      1720   \n",
              "11   6500                 12        57.09                      3056   \n",
              "12  14560                 15        51.29                      1390   \n",
              "13   2500                 24        58.53                      1670   \n",
              "14    243                 12        57.09                      3056   \n",
              "15    243                 12        47.86                      1893   \n",
              "16  16000                 12        61.55                      1592   \n",
              "17   4750                 24        51.29                      1390   \n",
              "18  19670                 24        57.09                      3056   \n",
              "19  18833                 18        55.25                      2180   \n",
              "20   3862                 12        58.53                      1670   \n",
              "21  12488                 27        52.64                      1396   \n",
              "\n",
              "    Total costs  Unemployment level  \n",
              "0       72507.0                 8.3  \n",
              "1       34666.0                 8.1  \n",
              "2       24410.0                 9.4  \n",
              "4       23140.0                 9.4  \n",
              "5       91344.0                 8.3  \n",
              "6       72922.0                 8.3  \n",
              "7       23902.0                 7.8  \n",
              "8       38840.0                10.2  \n",
              "9       36915.0                 8.3  \n",
              "10      24410.0                 9.4  \n",
              "11      43172.0                 8.3  \n",
              "12      39050.0                 7.3  \n",
              "13      45080.0                 7.8  \n",
              "14      36915.0                 8.3  \n",
              "15      22959.0                 8.1  \n",
              "16      35104.0                12.6  \n",
              "17      42860.0                 7.3  \n",
              "18     112684.0                 8.3  \n",
              "19      67489.5                10.4  \n",
              "20      23902.0                 7.8  \n",
              "21      65790.0                10.2  "
            ],
            "text/html": [
              "\n",
              "  <div id=\"df-4081902a-5dd2-42cb-975b-1876c9a6bbd5\">\n",
              "    <div class=\"colab-df-container\">\n",
              "      <div>\n",
              "<style scoped>\n",
              "    .dataframe tbody tr th:only-of-type {\n",
              "        vertical-align: middle;\n",
              "    }\n",
              "\n",
              "    .dataframe tbody tr th {\n",
              "        vertical-align: top;\n",
              "    }\n",
              "\n",
              "    .dataframe thead th {\n",
              "        text-align: right;\n",
              "    }\n",
              "</style>\n",
              "<table border=\"1\" class=\"dataframe\">\n",
              "  <thead>\n",
              "    <tr style=\"text-align: right;\">\n",
              "      <th></th>\n",
              "      <th>Programme</th>\n",
              "      <th>University</th>\n",
              "      <th>Location</th>\n",
              "      <th>Fees</th>\n",
              "      <th>Duration (months)</th>\n",
              "      <th>Crime level</th>\n",
              "      <th>Cost of living per month</th>\n",
              "      <th>Total costs</th>\n",
              "      <th>Unemployment level</th>\n",
              "    </tr>\n",
              "  </thead>\n",
              "  <tbody>\n",
              "    <tr>\n",
              "      <th>0</th>\n",
              "      <td>International Accounting, Audit and Control</td>\n",
              "      <td>IÉSEG School of Management</td>\n",
              "      <td>Paris</td>\n",
              "      <td>11666</td>\n",
              "      <td>18</td>\n",
              "      <td>57.09</td>\n",
              "      <td>3056</td>\n",
              "      <td>72507.0</td>\n",
              "      <td>8.3</td>\n",
              "    </tr>\n",
              "    <tr>\n",
              "      <th>1</th>\n",
              "      <td>Corporate Finance and Fintech</td>\n",
              "      <td>ESC Clermont Business School</td>\n",
              "      <td>Clermont-Ferrand</td>\n",
              "      <td>11950</td>\n",
              "      <td>12</td>\n",
              "      <td>47.86</td>\n",
              "      <td>1893</td>\n",
              "      <td>34666.0</td>\n",
              "      <td>8.1</td>\n",
              "    </tr>\n",
              "    <tr>\n",
              "      <th>2</th>\n",
              "      <td>Finance</td>\n",
              "      <td>Toulouse 1 Capitole University</td>\n",
              "      <td>Toulouse</td>\n",
              "      <td>3770</td>\n",
              "      <td>12</td>\n",
              "      <td>50.14</td>\n",
              "      <td>1720</td>\n",
              "      <td>24410.0</td>\n",
              "      <td>9.4</td>\n",
              "    </tr>\n",
              "    <tr>\n",
              "      <th>4</th>\n",
              "      <td>Corporate Finance</td>\n",
              "      <td>Toulouse 1 Capitole University</td>\n",
              "      <td>Toulouse</td>\n",
              "      <td>2500</td>\n",
              "      <td>12</td>\n",
              "      <td>50.14</td>\n",
              "      <td>1720</td>\n",
              "      <td>23140.0</td>\n",
              "      <td>9.4</td>\n",
              "    </tr>\n",
              "    <tr>\n",
              "      <th>5</th>\n",
              "      <td>QEM - Models and Methods of Quantitative Econo...</td>\n",
              "      <td>Panthéon-Sorbonne University</td>\n",
              "      <td>Paris</td>\n",
              "      <td>9000</td>\n",
              "      <td>24</td>\n",
              "      <td>57.09</td>\n",
              "      <td>3056</td>\n",
              "      <td>91344.0</td>\n",
              "      <td>8.3</td>\n",
              "    </tr>\n",
              "    <tr>\n",
              "      <th>6</th>\n",
              "      <td>Master in Accounting, Finance and Management</td>\n",
              "      <td>HEC Paris</td>\n",
              "      <td>Jouy-en-Josas</td>\n",
              "      <td>36250</td>\n",
              "      <td>12</td>\n",
              "      <td>11.76</td>\n",
              "      <td>3056</td>\n",
              "      <td>72922.0</td>\n",
              "      <td>8.3</td>\n",
              "    </tr>\n",
              "    <tr>\n",
              "      <th>7</th>\n",
              "      <td>Advances in Finance and Accounting (AFA)</td>\n",
              "      <td>Grenoble INP, Graduate schools of Engineering ...</td>\n",
              "      <td>Grenoble</td>\n",
              "      <td>3862</td>\n",
              "      <td>12</td>\n",
              "      <td>58.53</td>\n",
              "      <td>1670</td>\n",
              "      <td>23902.0</td>\n",
              "      <td>7.8</td>\n",
              "    </tr>\n",
              "    <tr>\n",
              "      <th>8</th>\n",
              "      <td>Corporate Finance</td>\n",
              "      <td>NEOMA Business School</td>\n",
              "      <td>Rouen</td>\n",
              "      <td>14320</td>\n",
              "      <td>15</td>\n",
              "      <td>52.64</td>\n",
              "      <td>1396</td>\n",
              "      <td>38840.0</td>\n",
              "      <td>10.2</td>\n",
              "    </tr>\n",
              "    <tr>\n",
              "      <th>9</th>\n",
              "      <td>M2 Economics</td>\n",
              "      <td>Paris-Saclay University</td>\n",
              "      <td>Paris</td>\n",
              "      <td>243</td>\n",
              "      <td>12</td>\n",
              "      <td>57.09</td>\n",
              "      <td>3056</td>\n",
              "      <td>36915.0</td>\n",
              "      <td>8.3</td>\n",
              "    </tr>\n",
              "    <tr>\n",
              "      <th>10</th>\n",
              "      <td>Accounting, Auditing and Management Control</td>\n",
              "      <td>Toulouse 1 Capitole University</td>\n",
              "      <td>Toulouse</td>\n",
              "      <td>3770</td>\n",
              "      <td>12</td>\n",
              "      <td>50.14</td>\n",
              "      <td>1720</td>\n",
              "      <td>24410.0</td>\n",
              "      <td>9.4</td>\n",
              "    </tr>\n",
              "    <tr>\n",
              "      <th>11</th>\n",
              "      <td>Pantheon-Sorbonne Master in Economics</td>\n",
              "      <td>Panthéon-Sorbonne University</td>\n",
              "      <td>Paris</td>\n",
              "      <td>6500</td>\n",
              "      <td>12</td>\n",
              "      <td>57.09</td>\n",
              "      <td>3056</td>\n",
              "      <td>43172.0</td>\n",
              "      <td>8.3</td>\n",
              "    </tr>\n",
              "    <tr>\n",
              "      <th>12</th>\n",
              "      <td>International Accounting, Management Control a...</td>\n",
              "      <td>Rennes School of Business</td>\n",
              "      <td>Rennes</td>\n",
              "      <td>14560</td>\n",
              "      <td>15</td>\n",
              "      <td>51.29</td>\n",
              "      <td>1390</td>\n",
              "      <td>39050.0</td>\n",
              "      <td>7.3</td>\n",
              "    </tr>\n",
              "    <tr>\n",
              "      <th>13</th>\n",
              "      <td>European Master in Business Studies</td>\n",
              "      <td>Savoie Mont Blanc University</td>\n",
              "      <td>Chambery</td>\n",
              "      <td>2500</td>\n",
              "      <td>24</td>\n",
              "      <td>58.53</td>\n",
              "      <td>1670</td>\n",
              "      <td>45080.0</td>\n",
              "      <td>7.8</td>\n",
              "    </tr>\n",
              "    <tr>\n",
              "      <th>14</th>\n",
              "      <td>M1 Economics</td>\n",
              "      <td>Paris-Saclay University</td>\n",
              "      <td>Paris</td>\n",
              "      <td>243</td>\n",
              "      <td>12</td>\n",
              "      <td>57.09</td>\n",
              "      <td>3056</td>\n",
              "      <td>36915.0</td>\n",
              "      <td>8.3</td>\n",
              "    </tr>\n",
              "    <tr>\n",
              "      <th>15</th>\n",
              "      <td>Accounting and Finance</td>\n",
              "      <td>University of Clermont Auvergne (UCA)</td>\n",
              "      <td>Clermont-Ferrand</td>\n",
              "      <td>243</td>\n",
              "      <td>12</td>\n",
              "      <td>47.86</td>\n",
              "      <td>1893</td>\n",
              "      <td>22959.0</td>\n",
              "      <td>8.1</td>\n",
              "    </tr>\n",
              "    <tr>\n",
              "      <th>16</th>\n",
              "      <td>Global Finance</td>\n",
              "      <td>Montpellier Business School</td>\n",
              "      <td>Montpellier</td>\n",
              "      <td>16000</td>\n",
              "      <td>12</td>\n",
              "      <td>61.55</td>\n",
              "      <td>1592</td>\n",
              "      <td>35104.0</td>\n",
              "      <td>12.6</td>\n",
              "    </tr>\n",
              "    <tr>\n",
              "      <th>17</th>\n",
              "      <td>Accounting and Auditing</td>\n",
              "      <td>University of Rennes</td>\n",
              "      <td>Rennes</td>\n",
              "      <td>4750</td>\n",
              "      <td>24</td>\n",
              "      <td>51.29</td>\n",
              "      <td>1390</td>\n",
              "      <td>42860.0</td>\n",
              "      <td>7.3</td>\n",
              "    </tr>\n",
              "    <tr>\n",
              "      <th>18</th>\n",
              "      <td>Economics</td>\n",
              "      <td>Sciences Po</td>\n",
              "      <td>Paris</td>\n",
              "      <td>19670</td>\n",
              "      <td>24</td>\n",
              "      <td>57.09</td>\n",
              "      <td>3056</td>\n",
              "      <td>112684.0</td>\n",
              "      <td>8.3</td>\n",
              "    </tr>\n",
              "    <tr>\n",
              "      <th>19</th>\n",
              "      <td>International Accounting and Finance</td>\n",
              "      <td>EDHEC Business School</td>\n",
              "      <td>Nice</td>\n",
              "      <td>18833</td>\n",
              "      <td>18</td>\n",
              "      <td>55.25</td>\n",
              "      <td>2180</td>\n",
              "      <td>67489.5</td>\n",
              "      <td>10.4</td>\n",
              "    </tr>\n",
              "    <tr>\n",
              "      <th>20</th>\n",
              "      <td>Advances in Finance and Accounting</td>\n",
              "      <td>Université Grenoble Alpes</td>\n",
              "      <td>Grenoble</td>\n",
              "      <td>3862</td>\n",
              "      <td>12</td>\n",
              "      <td>58.53</td>\n",
              "      <td>1670</td>\n",
              "      <td>23902.0</td>\n",
              "      <td>7.8</td>\n",
              "    </tr>\n",
              "    <tr>\n",
              "      <th>21</th>\n",
              "      <td>International Finance</td>\n",
              "      <td>NEOMA Business School</td>\n",
              "      <td>Rouen</td>\n",
              "      <td>12488</td>\n",
              "      <td>27</td>\n",
              "      <td>52.64</td>\n",
              "      <td>1396</td>\n",
              "      <td>65790.0</td>\n",
              "      <td>10.2</td>\n",
              "    </tr>\n",
              "  </tbody>\n",
              "</table>\n",
              "</div>\n",
              "      <button class=\"colab-df-convert\" onclick=\"convertToInteractive('df-4081902a-5dd2-42cb-975b-1876c9a6bbd5')\"\n",
              "              title=\"Convert this dataframe to an interactive table.\"\n",
              "              style=\"display:none;\">\n",
              "        \n",
              "  <svg xmlns=\"http://www.w3.org/2000/svg\" height=\"24px\"viewBox=\"0 0 24 24\"\n",
              "       width=\"24px\">\n",
              "    <path d=\"M0 0h24v24H0V0z\" fill=\"none\"/>\n",
              "    <path d=\"M18.56 5.44l.94 2.06.94-2.06 2.06-.94-2.06-.94-.94-2.06-.94 2.06-2.06.94zm-11 1L8.5 8.5l.94-2.06 2.06-.94-2.06-.94L8.5 2.5l-.94 2.06-2.06.94zm10 10l.94 2.06.94-2.06 2.06-.94-2.06-.94-.94-2.06-.94 2.06-2.06.94z\"/><path d=\"M17.41 7.96l-1.37-1.37c-.4-.4-.92-.59-1.43-.59-.52 0-1.04.2-1.43.59L10.3 9.45l-7.72 7.72c-.78.78-.78 2.05 0 2.83L4 21.41c.39.39.9.59 1.41.59.51 0 1.02-.2 1.41-.59l7.78-7.78 2.81-2.81c.8-.78.8-2.07 0-2.86zM5.41 20L4 18.59l7.72-7.72 1.47 1.35L5.41 20z\"/>\n",
              "  </svg>\n",
              "      </button>\n",
              "      \n",
              "  <style>\n",
              "    .colab-df-container {\n",
              "      display:flex;\n",
              "      flex-wrap:wrap;\n",
              "      gap: 12px;\n",
              "    }\n",
              "\n",
              "    .colab-df-convert {\n",
              "      background-color: #E8F0FE;\n",
              "      border: none;\n",
              "      border-radius: 50%;\n",
              "      cursor: pointer;\n",
              "      display: none;\n",
              "      fill: #1967D2;\n",
              "      height: 32px;\n",
              "      padding: 0 0 0 0;\n",
              "      width: 32px;\n",
              "    }\n",
              "\n",
              "    .colab-df-convert:hover {\n",
              "      background-color: #E2EBFA;\n",
              "      box-shadow: 0px 1px 2px rgba(60, 64, 67, 0.3), 0px 1px 3px 1px rgba(60, 64, 67, 0.15);\n",
              "      fill: #174EA6;\n",
              "    }\n",
              "\n",
              "    [theme=dark] .colab-df-convert {\n",
              "      background-color: #3B4455;\n",
              "      fill: #D2E3FC;\n",
              "    }\n",
              "\n",
              "    [theme=dark] .colab-df-convert:hover {\n",
              "      background-color: #434B5C;\n",
              "      box-shadow: 0px 1px 3px 1px rgba(0, 0, 0, 0.15);\n",
              "      filter: drop-shadow(0px 1px 2px rgba(0, 0, 0, 0.3));\n",
              "      fill: #FFFFFF;\n",
              "    }\n",
              "  </style>\n",
              "\n",
              "      <script>\n",
              "        const buttonEl =\n",
              "          document.querySelector('#df-4081902a-5dd2-42cb-975b-1876c9a6bbd5 button.colab-df-convert');\n",
              "        buttonEl.style.display =\n",
              "          google.colab.kernel.accessAllowed ? 'block' : 'none';\n",
              "\n",
              "        async function convertToInteractive(key) {\n",
              "          const element = document.querySelector('#df-4081902a-5dd2-42cb-975b-1876c9a6bbd5');\n",
              "          const dataTable =\n",
              "            await google.colab.kernel.invokeFunction('convertToInteractive',\n",
              "                                                     [key], {});\n",
              "          if (!dataTable) return;\n",
              "\n",
              "          const docLinkHtml = 'Like what you see? Visit the ' +\n",
              "            '<a target=\"_blank\" href=https://colab.research.google.com/notebooks/data_table.ipynb>data table notebook</a>'\n",
              "            + ' to learn more about interactive tables.';\n",
              "          element.innerHTML = '';\n",
              "          dataTable['output_type'] = 'display_data';\n",
              "          await google.colab.output.renderOutput(dataTable, element);\n",
              "          const docLink = document.createElement('div');\n",
              "          docLink.innerHTML = docLinkHtml;\n",
              "          element.appendChild(docLink);\n",
              "        }\n",
              "      </script>\n",
              "    </div>\n",
              "  </div>\n",
              "  "
            ]
          },
          "metadata": {},
          "execution_count": 20
        }
      ]
    },
    {
      "cell_type": "code",
      "source": [
        "# теперь посмотрим на всякие графички, связанные с нашим проектом\n",
        "# начнем с корреляции между уровнем преступности и безработицей в регионе \n",
        "df[\"Crime level\"] = pd.to_numeric(df[\"Crime level\"], errors=\"coerce\")\n",
        "df[\"Unemployment level\"] = pd.to_numeric(df[\"Unemployment level\"], errors=\"coerce\")\n",
        "df = df.dropna(subset=[\"Crime level\", \"Unemployment level\"])\n",
        "plt.scatter(df[\"Crime level\"], df[\"Unemployment level\"])\n",
        "plt.xlabel(\"Crime level\")\n",
        "plt.ylabel(\"Unemployment level\")\n",
        "plt.title(\"Correlation between Crime level and Unemployment\")\n",
        "plt.show()"
      ],
      "metadata": {
        "id": "yftahlvzVt22",
        "colab": {
          "base_uri": "https://localhost:8080/",
          "height": 472
        },
        "outputId": "e7fc8261-a793-4a79-9b0f-725712e27ab4"
      },
      "execution_count": 18,
      "outputs": [
        {
          "output_type": "display_data",
          "data": {
            "text/plain": [
              "<Figure size 640x480 with 1 Axes>"
            ],
            "image/png": "[encoded data removed]"
          },
          "metadata": {}
        }
      ]
    },
    {
      "cell_type": "code",
      "source": [
        "# теперь посравниваем то, сколько придется выложить за только само обучение \n",
        "# видим, что выигрывает Jouy-en-Josas со своим HEC, в целом, неудивительно) \n",
        "import seaborn as sns\n",
        "import matplotlib.pyplot as plt\n",
        "import warnings\n",
        "warnings.filterwarnings(\"ignore\")\n",
        "df_location_fees = df[['Location', 'Fees']]\n",
        "df_location_fees['Fees'] = pd.to_numeric(df_location_fees['Fees'], errors='coerce')\n",
        "df_location_fees.dropna(subset=['Fees'], inplace=True)\n",
        "pivot_table = df_location_fees.pivot_table(index='Location', values='Fees', aggfunc='mean')\n",
        "df_normalized = (pivot_table - pivot_table.mean()) / pivot_table.std()\n",
        "plt.subplots(figsize=(10, 10))\n",
        "heatmap = sns.heatmap(data=df_normalized,\n",
        "                      cmap='PiYG_r',\n",
        "                      center=0)\n",
        "plt.title('Fees comparison in different locations')\n",
        "plt.xlabel('Fees')\n",
        "plt.ylabel('Location')\n",
        "plt.show()\n"
      ],
      "metadata": {
        "colab": {
          "base_uri": "https://localhost:8080/",
          "height": 872
        },
        "id": "GQBXgkGzpNGA",
        "outputId": "fd426ca6-4e85-47bf-a7ac-bbf529c4c41c"
      },
      "execution_count": 19,
      "outputs": [
        {
          "output_type": "display_data",
          "data": {
            "text/plain": [
              "<Figure size 1000x1000 with 2 Axes>"
            ],
            "image/png": "[encoded data removed]"
          },
          "metadata": {}
        }
      ]
    },
    {
      "cell_type": "code",
      "source": [
        "df_unique_locations = df.drop_duplicates(subset='Location')\n",
        "\n",
        "plt.figure(figsize=(10, 6))\n",
        "plt.bar(df_unique_locations['Location'], df_unique_locations['Cost of living per month'])\n",
        "plt.xlabel('Location')\n",
        "plt.ylabel('Cost of Living per Month')\n",
        "plt.title('Cost of Living by Location')\n",
        "plt.xticks(rotation=45)\n",
        "plt.show()\n",
        "# в данном случае мы вывели bar chart, в котором отобразили стоимость жизни в зависимости от локации, при этом учли, что в таблице некоторые \n",
        "# города повторяются, поэтому если город повторялся более одного раза, то выводилось его первое повторение "
      ],
      "metadata": {
        "colab": {
          "base_uri": "https://localhost:8080/",
          "height": 646
        },
        "id": "LH44xjEq5NnP",
        "outputId": "fe4d23e5-3327-446c-c0cc-721a2cd9e63e"
      },
      "execution_count": 26,
      "outputs": [
        {
          "output_type": "display_data",
          "data": {
            "text/plain": [
              "<Figure size 1000x600 with 1 Axes>"
            ],
            "image/png": "[encoded data removed]"
          },
          "metadata": {}
        }
      ]
    }
  ]
}